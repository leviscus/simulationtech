{
 "cells": [
  {
   "cell_type": "markdown",
   "metadata": {},
   "source": [
    "This tutorial is based on the [legacy FEniCS tutorial](https://fenicsproject.org/pub/tutorial/html/._ftut1005.html) and the [FEniCSx tutorial on the deflection of a membrane](https://jsdokken.com/dolfinx-tutorial/chapter1/membrane.html)."
   ]
  },
  {
   "cell_type": "markdown",
   "metadata": {},
   "source": [
    "## Gmsh installation\n",
    "\n",
    "The built-in FEniCSx meshes are well suited for testing and simple academic problems, but many geometries in real life have more complicated shapes. Gmsh is a free and open-source mesh generator that can handle more complex geometries.\n",
    "\n",
    "To add Gmsh to your Conda environment `fenicsx-env`, first make sure you have this environment activated and then\n",
    "\n",
    "```bash\n",
    "conda install gmsh python-gmsh\n",
    "```\n"
   ]
  },
  {
   "cell_type": "markdown",
   "metadata": {},
   "source": [
    "## Temperature distribution in a room\n",
    "\n",
    "Our first FEniCSx program for the Poisson equation targeted a\n",
    "simple test problem where we could easily verify the\n",
    "implementation. We now turn our attention to a physically more\n",
    "relevant problem with solutions of somewhat more exciting shape.\n",
    "\n",
    "We want to compute the temperature $T(x,y)$ inside a (two-dimensional) room \n",
    "that is equipped with space heaters. The appropriate PDE model is\n",
    "\n",
    "\\begin{equation}\n",
    "-k\\Delta T = f\\quad\\hbox{in }\\Omega\n",
    "\\tag{1}\n",
    "\\end{equation}\n",
    "\n",
    "Here, $k = 2.4$ (in suitable units) is the effective heat conductivity of air,\n",
    "and $f$ is the external heat source from the heaters.\n",
    "Initially we assume that the outside walls of the room have a fixed\n",
    "temperature of 10°C, implying $T=10$ as a boundary condition.\n",
    "\n",
    "A localised heat source can be modeled as a piecewise function:\n",
    "\n",
    "\\begin{equation}\n",
    "f(x,y) = \\begin{cases}\n",
    "2 & \\text{if } 0\\leq x \\leq 0.3\\\\\n",
    "0 & \\text{otherwise}\n",
    "\\end{cases}.\n",
    "\\tag{2}\n",
    "\\end{equation}"
   ]
  },
  {
   "cell_type": "markdown",
   "metadata": {},
   "source": [
    "### Creating geometries with Gmsh\n",
    "\n",
    "To create the computational geometry, we use the Python API of Gmsh. We start by importing the gmsh module and initialising it."
   ]
  },
  {
   "cell_type": "code",
   "execution_count": 1,
   "metadata": {},
   "outputs": [],
   "source": [
    "import gmsh\n",
    "gmsh.initialize()"
   ]
  },
  {
   "cell_type": "markdown",
   "metadata": {},
   "source": [
    "The next step is to create the room layout and start the computations by the Gmsh Open Cascade CAD kernel (`occ`), to generate the relevant underlying data structures.\n",
    "\n",
    "Some common two-dimensional shapes can be generated with the commands\n",
    "* `addDisk`\n",
    "* `addRectangle`\n",
    "\n",
    "The first three arguments of `addDisk` are the $x$, $y$ and $z$ coordinate of the center of the disk, while the two last arguments are the $x$-radius and $y$-radius.\n",
    "\n",
    "The first three arguments of `addRectangle` are the $x$, $y$ and $z$ coordinate of the lower left corner of the rectangle, while the two last arguments are $dx$-length and $dy$-width to the upper right corner."
   ]
  },
  {
   "cell_type": "code",
   "execution_count": 2,
   "metadata": {},
   "outputs": [
    {
     "name": "stdout",
     "output_type": "stream",
     "text": [
      "Help on function addRectangle in module gmsh:\n",
      "\n",
      "addRectangle(x, y, z, dx, dy, tag=-1, roundedRadius=0.0)\n",
      "    gmsh.model.occ.addRectangle(x, y, z, dx, dy, tag=-1, roundedRadius=0.)\n",
      "\n",
      "    Add a rectangle in the OpenCASCADE CAD representation, with lower left\n",
      "    corner at (`x', `y', `z') and upper right corner at (`x' + `dx', `y' +\n",
      "    `dy', `z'). If `tag' is positive, set the tag explicitly; otherwise a new\n",
      "    tag is selected automatically. Round the corners if `roundedRadius' is\n",
      "    nonzero. Return the tag of the rectangle.\n",
      "\n",
      "    Return an integer.\n",
      "\n",
      "    Types:\n",
      "    - `x': double\n",
      "    - `y': double\n",
      "    - `z': double\n",
      "    - `dx': double\n",
      "    - `dy': double\n",
      "    - `tag': integer\n",
      "    - `roundedRadius': double\n",
      "\n"
     ]
    }
   ],
   "source": [
    "disk = gmsh.model.occ.addDisk(0, 0, 0, 10, 10)\n",
    "rectangle1 = gmsh.model.occ.addRectangle(-10, 5, 0, 20, 5)\n",
    "rectangle2 = gmsh.model.occ.addRectangle(-10, -10, 0, 20, 5)\n",
    "\n",
    "gdim = 2 # geometric dimension of this model\n",
    "\n",
    "help(gmsh.model.occ.addRectangle)"
   ]
  },
  {
   "cell_type": "markdown",
   "metadata": {},
   "source": [
    "📝 Make a sketch of these three shapes on paper!"
   ]
  },
  {
   "cell_type": "markdown",
   "metadata": {},
   "source": [
    "To form more complex shapes out of the basic ones, Gmsh provides commands such as\n",
    "* `cut` (set difference)\n",
    "* `fuse` (union)\n",
    "* `intersect` (intersection)"
   ]
  },
  {
   "cell_type": "code",
   "execution_count": 3,
   "metadata": {},
   "outputs": [
    {
     "name": "stdout",
     "output_type": "stream",
     "text": [
      "Help on function cut in module gmsh:                                                                                                 \n",
      "\n",
      "cut(objectDimTags, toolDimTags, tag=-1, removeObject=True, removeTool=True)\n",
      "    gmsh.model.occ.cut(objectDimTags, toolDimTags, tag=-1, removeObject=True, removeTool=True)\n",
      "\n",
      "    Compute the boolean difference between the entities `objectDimTags' and\n",
      "    `toolDimTags' (given as vectors of (dim, tag) pairs) in the OpenCASCADE CAD\n",
      "    representation. Return the resulting entities in `outDimTags'. If `tag' is\n",
      "    positive, try to set the tag explicitly (only valid if the boolean\n",
      "    operation results in a single entity). Remove the object if `removeObject'\n",
      "    is set. Remove the tool if `removeTool' is set.\n",
      "\n",
      "    Return `outDimTags', `outDimTagsMap'.\n",
      "\n",
      "    Types:\n",
      "    - `objectDimTags': vector of pairs of integers\n",
      "    - `toolDimTags': vector of pairs of integers\n",
      "    - `outDimTags': vector of pairs of integers\n",
      "    - `outDimTagsMap': vector of vectors of pairs of integers\n",
      "    - `tag': integer\n",
      "    - `removeObject': boolean\n",
      "    - `removeTool': boolean\n",
      "\n"
     ]
    }
   ],
   "source": [
    "room = gmsh.model.occ.cut([(gdim, disk)], [(gdim, rectangle1), (gdim, rectangle2)])\n",
    "help(gmsh.model.occ.cut)"
   ]
  },
  {
   "cell_type": "markdown",
   "metadata": {},
   "source": [
    "📝 In your sketch on paper, shade the region that results from this operation."
   ]
  },
  {
   "cell_type": "markdown",
   "metadata": {},
   "source": [
    "Next, we need to transfer these data from the Open Cascade kernel to Gmsh.\n",
    "\n",
    "After that, we make the room a physical surface, such that it is recognised by Gmsh when generating the mesh. To this end, we first extract all two-dimensional pieces (\"entities\") from the geometric model and then collect them in a physical group. As a surface is a two-dimensional entity, we add `gdim` (i.e. `2`) as the first argument, the list of entity tags the room is composed of as the second argument, and the desired physical tag as the last argument. At a later stage in this course, we will get into when this tag matters."
   ]
  },
  {
   "cell_type": "code",
   "execution_count": null,
   "metadata": {},
   "outputs": [
    {
     "name": "stdout",
     "output_type": "stream",
     "text": [
      "Help on function synchronize in module gmsh:\n",
      "\n",
      "synchronize()\n",
      "    gmsh.model.occ.synchronize()\n",
      "\n",
      "    Synchronize the OpenCASCADE CAD representation with the current Gmsh model.\n",
      "    This can be called at any time, but since it involves a non trivial amount\n",
      "    of processing, the number of synchronization points should normally be\n",
      "    minimized. Without synchronization the entities in the OpenCASCADE CAD\n",
      "    representation are not available to any function outside of the OpenCASCADE\n",
      "    CAD kernel functions.\n",
      "\n"
     ]
    }
   ],
   "source": [
    "gmsh.model.occ.synchronize()\n",
    "surface_entities = [entity[1] for entity in gmsh.model.getEntities(dim=gdim)]\n",
    "gmsh.model.addPhysicalGroup(gdim, surface_entities, tag=1)"
   ]
  },
  {
   "cell_type": "markdown",
   "metadata": {},
   "source": [
    "Finally, we generate the two-dimensional mesh. We set a uniform mesh size by modifying the Gmsh options."
   ]
  },
  {
   "cell_type": "code",
   "execution_count": 5,
   "metadata": {},
   "outputs": [
    {
     "name": "stdout",
     "output_type": "stream",
     "text": [
      "Info    : Meshing 1D...\n",
      "Info    : [  0%] Meshing curve 1 (Ellipse)\n",
      "Info    : [ 30%] Meshing curve 2 (Line)\n",
      "Info    : [ 50%] Meshing curve 3 (Ellipse)\n",
      "Info    : [ 70%] Meshing curve 4 (Line)\n",
      "Info    : [ 90%] Meshing curve 5 (Ellipse)\n",
      "Info    : Done meshing 1D (Wall 0.000470759s, CPU 3.9e-05s)\n",
      "Info    : Meshing 2D...\n",
      "Info    : Meshing surface 1 (Plane, Frontal-Delaunay)\n",
      "Info    : Done meshing 2D (Wall 0.622126s, CPU 0.605049s)\n",
      "Info    : 22646 nodes 45295 elements\n"
     ]
    }
   ],
   "source": [
    "gmsh.option.setNumber(\"Mesh.CharacteristicLengthMin\", 0.1)\n",
    "gmsh.option.setNumber(\"Mesh.CharacteristicLengthMax\", 0.1)\n",
    "gmsh.model.mesh.generate(gdim)"
   ]
  },
  {
   "cell_type": "markdown",
   "metadata": {},
   "source": [
    "### Using Gmsh models in FEniCSx\n",
    "\n",
    "We will import the Gmsh-mesh directly from Gmsh into DOLFINx via the `dolfinx.io.gmshio` interface.\n",
    "\n",
    "The communicator and rank arguments will play a role later on when we consider computing in parallel.\n",
    "\n",
    "We will get two mesh tags, one for cells marked with physical groups in the mesh and one for facets marked with physical groups. As we did not add any physical groups of dimension `gdim-1`, there will be no entities in the `facet_markers`."
   ]
  },
  {
   "cell_type": "markdown",
   "metadata": {},
   "source": [
    "❓ For what kind of boundary conditions would it be interesting to have physical groups of dimension `gdim-1` in the Gmsh model?\n",
    "\n",
    "❗ 📝 ______________________________________"
   ]
  },
  {
   "cell_type": "code",
   "execution_count": 6,
   "metadata": {},
   "outputs": [],
   "source": [
    "from mpi4py import MPI\n",
    "import numpy as np\n",
    "from dolfinx import fem, io, mesh\n",
    "from dolfinx.fem.petsc import LinearProblem\n",
    "from ufl import SpatialCoordinate, conditional, And, gt, lt, TrialFunction, TestFunction, inner, grad, dx\n",
    "from pathlib import Path\n",
    "\n",
    "domain, cell_markers, facet_markers = io.gmshio.model_to_mesh(\n",
    "    model=gmsh.model,\n",
    "    comm=MPI.COMM_WORLD,\n",
    "    rank=0,\n",
    "    gdim=gdim\n",
    ")"
   ]
  },
  {
   "cell_type": "markdown",
   "metadata": {},
   "source": [
    "We define the function space and constant terms as in the previous tutorial."
   ]
  },
  {
   "cell_type": "code",
   "execution_count": 7,
   "metadata": {},
   "outputs": [],
   "source": [
    "V = fem.functionspace(domain, (\"P\", 1))\n",
    "\n",
    "k = fem.Constant(domain, 2.5)"
   ]
  },
  {
   "cell_type": "markdown",
   "metadata": {},
   "source": [
    "The piecewise heat source function is represented using the unified form language UFL:"
   ]
  },
  {
   "cell_type": "code",
   "execution_count": 8,
   "metadata": {},
   "outputs": [],
   "source": [
    "x = SpatialCoordinate(domain)\n",
    "f = conditional(And(gt(x[0], 0), lt(x[0],0.25)), fem.Constant(domain, 2.), fem.Constant(domain, 0.))"
   ]
  },
  {
   "cell_type": "markdown",
   "metadata": {},
   "source": [
    "The boundary conditions are set using the topological information."
   ]
  },
  {
   "cell_type": "code",
   "execution_count": 9,
   "metadata": {},
   "outputs": [],
   "source": [
    "tdim = domain.topology.dim # topological dimension of the mesh\n",
    "fdim = tdim - 1 # facet dimension\n",
    "domain.topology.create_connectivity(fdim, tdim) # what facets are connected to which cells\n",
    "boundary_facets = mesh.exterior_facet_indices(domain.topology)\n",
    "boundary_dofs = fem.locate_dofs_topological(\n",
    "    V=V,\n",
    "    entity_dim=1,\n",
    "    entities=boundary_facets\n",
    ")\n",
    "\n",
    "bc = fem.dirichletbc(10., boundary_dofs, V)"
   ]
  },
  {
   "cell_type": "markdown",
   "metadata": {},
   "source": [
    "Now the problem formulation can be specified in the well-known fashion:"
   ]
  },
  {
   "cell_type": "code",
   "execution_count": 10,
   "metadata": {},
   "outputs": [],
   "source": [
    "T = TrialFunction(V)\n",
    "v = TestFunction(V)\n",
    "a = k * inner(grad(T), grad(v)) * dx\n",
    "L = f * v * dx\n",
    "problem = LinearProblem(a, L, bcs=[bc], petsc_options={\"ksp_type\": \"preonly\", \"pc_type\": \"lu\"})\n",
    "Th = problem.solve()\n",
    "Th.name = \"Temperature\""
   ]
  },
  {
   "cell_type": "markdown",
   "metadata": {},
   "source": [
    "Finally, we export the data in VTX format:\n",
    "* the heat source $f$ as a piecewise constant function\n",
    "* the numerical solution for $T$ as a piecewise linear function"
   ]
  },
  {
   "cell_type": "code",
   "execution_count": 11,
   "metadata": {},
   "outputs": [],
   "source": [
    "Q = fem.functionspace(domain, (\"DP\", 0))\n",
    "expr = fem.Expression(f, Q.element.interpolation_points())\n",
    "heat_source = fem.Function(Q)\n",
    "heat_source.interpolate(expr)\n",
    "heat_source.name = \"Heat Source\"\n",
    "\n",
    "results_folder = Path(\"results\")\n",
    "results_folder.mkdir(exist_ok=True, parents=True)\n",
    "with io.VTXWriter(MPI.COMM_WORLD, results_folder / \"heat_source.bp\", [heat_source], engine=\"BP4\") as vtx:\n",
    "    vtx.write(0.0)\n",
    "with io.VTXWriter(MPI.COMM_WORLD, results_folder / \"temperature.bp\", [Th], engine=\"BP4\") as vtx:\n",
    "    vtx.write(0.0)"
   ]
  }
 ],
 "metadata": {
  "kernelspec": {
   "display_name": "fenicsx-env",
   "language": "python",
   "name": "python3"
  },
  "language_info": {
   "codemirror_mode": {
    "name": "ipython",
    "version": 3
   },
   "file_extension": ".py",
   "mimetype": "text/x-python",
   "name": "python",
   "nbconvert_exporter": "python",
   "pygments_lexer": "ipython3",
   "version": "3.13.0"
  }
 },
 "nbformat": 4,
 "nbformat_minor": 2
}
